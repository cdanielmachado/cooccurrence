{
 "cells": [
  {
   "cell_type": "code",
   "execution_count": null,
   "metadata": {},
   "outputs": [],
   "source": [
    "%matplotlib inline"
   ]
  },
  {
   "cell_type": "code",
   "execution_count": null,
   "metadata": {},
   "outputs": [],
   "source": [
    "import pandas as pd\n",
    "import numpy as np\n",
    "import matplotlib.pyplot as plt\n",
    "import seaborn as sns\n",
    "from glob import glob\n",
    "from matplotlib.gridspec import GridSpec"
   ]
  },
  {
   "cell_type": "code",
   "execution_count": null,
   "metadata": {},
   "outputs": [],
   "source": [
    "sns.set_palette('deep')"
   ]
  },
  {
   "cell_type": "markdown",
   "metadata": {},
   "source": [
    "### load basics"
   ]
  },
  {
   "cell_type": "code",
   "execution_count": null,
   "metadata": {},
   "outputs": [],
   "source": [
    "bq = pd.read_csv(\"../communities/top/bq_50.tsv\", sep=\"\\t\", header=None)"
   ]
  },
  {
   "cell_type": "code",
   "execution_count": null,
   "metadata": {},
   "outputs": [],
   "source": [
    "AA = pd.read_csv(\"../data/amino_acids.tsv\", sep=\"\\t\")"
   ]
  },
  {
   "cell_type": "markdown",
   "metadata": {},
   "source": [
    "### process data"
   ]
  },
  {
   "cell_type": "code",
   "execution_count": null,
   "metadata": {},
   "outputs": [],
   "source": [
    "def process(df):\n",
    "    df[\"species\"] = df[\"organism\"].apply(lambda x: ' '.join(x.split('_')[:2]))\n",
    "    df[\"is_bq\"] = df[\"organism\"].isin(bq[1])\n",
    "    fraction = df.groupby([\"genusName\", \"name\"], as_index=False).agg(\n",
    "        {\"auxotrophy_ActualState\": np.mean, \"organism\": len})\n",
    "    fraction.rename(columns={\"auxotrophy_ActualState\": \"fraction\",\n",
    "                             \"organism\": \"n_species\"}, inplace=True)\n",
    "    df = pd.merge(df, fraction, on=[\"genusName\", \"name\"])\n",
    "    selected = df.query(\"auxotrophy_ActualState == 1 and is_bq == True and n_species >= 3\")\n",
    "    selected = selected[[\"species\", \"name\", \"fraction\", \"n_species\", \"ace1_probablity\"]].sort_values(\"species\")\n",
    "    return selected.rename(columns={\"fraction\": \"T\", \"ace1_probablity\": \"P\"})"
   ]
  },
  {
   "cell_type": "code",
   "execution_count": null,
   "metadata": {
    "scrolled": true
   },
   "outputs": [],
   "source": [
    "data_all = []\n",
    "for name in AA[\"name\"]:\n",
    "    try:\n",
    "        filename = f\"../ancestrality/{name}_probabilities_mapped2treePerSpecies__final_5000sp_v3.tab\"\n",
    "        df = pd.read_csv(filename, sep='\\t')\n",
    "    except:\n",
    "        continue\n",
    "    data = process(df)\n",
    "    if len(data) > 1:\n",
    "        data_all.append(data)\n",
    "\n",
    "final = pd.concat(data_all)"
   ]
  },
  {
   "cell_type": "markdown",
   "metadata": {},
   "source": [
    "### plotting"
   ]
  },
  {
   "cell_type": "code",
   "execution_count": null,
   "metadata": {
    "scrolled": false
   },
   "outputs": [],
   "source": [
    "plt.figure(figsize=(16,16))\n",
    "\n",
    "for i, (aa, df) in enumerate(final.groupby(\"name\")):\n",
    "    df = df[[\"species\",\"T\", \"P\"]].set_index(\"species\")\n",
    "    annot = df.applymap(lambda x: f\"{x:.1g}\" if x < 0.4 else '')\n",
    "    plt.subplot(4,4,i+1)\n",
    "    ax = sns.heatmap(df[[\"T\", \"P\"]], cmap=\"PiYG_r\", annot=annot, fmt='s',\n",
    "                    vmin=0, vmax=1)\n",
    "    ax.set_title(aa)\n",
    "    ax.set_ylabel('')\n",
    "plt.tight_layout()\n",
    "plt.savefig(\"../figures/supp_fig_7.png\", dpi=300, bbox_inches='tight')"
   ]
  },
  {
   "cell_type": "code",
   "execution_count": null,
   "metadata": {},
   "outputs": [],
   "source": []
  }
 ],
 "metadata": {
  "kernelspec": {
   "display_name": "Python 3",
   "language": "python",
   "name": "python3"
  },
  "language_info": {
   "codemirror_mode": {
    "name": "ipython",
    "version": 3
   },
   "file_extension": ".py",
   "mimetype": "text/x-python",
   "name": "python",
   "nbconvert_exporter": "python",
   "pygments_lexer": "ipython3",
   "version": "3.6.8"
  }
 },
 "nbformat": 4,
 "nbformat_minor": 2
}
