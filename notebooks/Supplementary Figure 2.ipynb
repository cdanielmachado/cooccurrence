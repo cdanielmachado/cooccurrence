{
 "cells": [
  {
   "cell_type": "code",
   "execution_count": null,
   "metadata": {},
   "outputs": [],
   "source": [
    "%matplotlib inline"
   ]
  },
  {
   "cell_type": "code",
   "execution_count": null,
   "metadata": {},
   "outputs": [],
   "source": [
    "import pandas as pd\n",
    "import seaborn as sns\n",
    "import matplotlib.pyplot as plt\n",
    "import numpy as np\n",
    "from glob import glob\n",
    "from sklearn.decomposition import PCA\n",
    "from matplotlib_venn import venn2"
   ]
  },
  {
   "cell_type": "code",
   "execution_count": null,
   "metadata": {},
   "outputs": [],
   "source": [
    "sns.set_palette('deep')"
   ]
  },
  {
   "cell_type": "code",
   "execution_count": null,
   "metadata": {},
   "outputs": [],
   "source": [
    "replicates = [1, 2, 3] \n",
    "thresholds = [0.01, 0.001, 0.0001, 0.00001]"
   ]
  },
  {
   "cell_type": "code",
   "execution_count": null,
   "metadata": {},
   "outputs": [],
   "source": [
    "types = [f\"replicates/repl_10000_{x}_{y}\" for y in replicates for x in thresholds]"
   ]
  },
  {
   "cell_type": "code",
   "execution_count": null,
   "metadata": {},
   "outputs": [],
   "source": [
    "orgs = {}\n",
    "for commtype in types:\n",
    "    orgs[commtype] = pd.concat(pd.read_csv(filename, sep='\\t', header=None,\n",
    "                                  names=[\"community\", \"org_id\"])\n",
    "                               for filename in glob(f'../communities/{commtype}/*.tsv'))"
   ]
  },
  {
   "cell_type": "code",
   "execution_count": null,
   "metadata": {},
   "outputs": [],
   "source": [
    "for commtype, orgs_i in orgs.items():\n",
    "    orgs_i[\"size\"] = orgs_i[\"community\"].apply(lambda x: int(x.split(\"_\")[1]))\n",
    "    orgs_i[\"threshold\"] = f\"{float(commtype.split('_')[-2]):.3%}\"\n",
    "    orgs_i[\"replicate\"] = int(commtype[-1])"
   ]
  },
  {
   "cell_type": "code",
   "execution_count": null,
   "metadata": {},
   "outputs": [],
   "source": [
    "df = pd.concat(orgs.values())\n",
    "df.reset_index(inplace=True)\n",
    "del df[\"index\"]\n",
    "df[\"value\"] = 1"
   ]
  },
  {
   "cell_type": "markdown",
   "metadata": {},
   "source": [
    "## PCA"
   ]
  },
  {
   "cell_type": "code",
   "execution_count": null,
   "metadata": {
    "scrolled": true
   },
   "outputs": [],
   "source": [
    "dfb = df.query(\"size <= 30\")\n",
    "df3 = dfb.groupby([\"size\", \"threshold\", 'replicate', \"org_id\"], as_index=False).agg({\"community\": lambda x: len(x) / 1000}) \n",
    "df4 = pd.pivot_table(df3, index=['threshold', 'replicate', 'size'], columns='org_id', values='community', fill_value=0)\n",
    "\n",
    "pca = PCA()\n",
    "Y = pca.fit_transform(df4.values)\n",
    "dfY = pd.DataFrame(Y, index=df4.index).reset_index()\n",
    "\n",
    "pc1 = pca.explained_variance_ratio_[0]\n",
    "pc2 = pca.explained_variance_ratio_[1]"
   ]
  },
  {
   "cell_type": "code",
   "execution_count": null,
   "metadata": {},
   "outputs": [],
   "source": [
    "hue_order = dfY[\"threshold\"].drop_duplicates().sort_values(ascending=False)"
   ]
  },
  {
   "cell_type": "code",
   "execution_count": null,
   "metadata": {},
   "outputs": [],
   "source": [
    "samples = pd.read_csv('../data/emp_150bp_filtered.tsv', sep='\\t')\n",
    "samples['value'] = 1\n",
    "samples_wide = pd.pivot_table(samples, index='org_id', columns='sample', values='value', fill_value=0)"
   ]
  },
  {
   "cell_type": "code",
   "execution_count": null,
   "metadata": {},
   "outputs": [],
   "source": [
    "def count_samples(dfi):\n",
    "    df_wide = pd.pivot_table(dfi, index='org_id', columns=[\"community\", \"size\"], values='value', fill_value=0)\n",
    "    common = sorted(set(samples_wide.index) & set(df_wide.index))\n",
    "    samples_common = samples_wide.loc[common,:]\n",
    "    cooc_common = df_wide.loc[common,:]\n",
    "\n",
    "    cooc_comms_wide = cooc_common.T.dot(samples_common)\n",
    "    cooc_comms_bin = cooc_comms_wide.eq(df_wide.sum(axis=0), axis=0).astype(int)\n",
    "    cooc_comms = pd.melt(cooc_comms_bin.reset_index(), id_vars=[\"community\", \"size\"], \n",
    "                         value_vars=cooc_comms_bin.columns).query(\"value > 0\")\n",
    "    return cooc_comms"
   ]
  },
  {
   "cell_type": "code",
   "execution_count": null,
   "metadata": {
    "scrolled": true
   },
   "outputs": [],
   "source": [
    "samples = {}\n",
    "totals = []\n",
    "df['value'] = 1\n",
    "\n",
    "for x in [0.001, 0.0001]:\n",
    "    for y in replicates:\n",
    "        dfi = df.query(f\"size <= 40 and threshold == '{x:.3%}' and replicate == {y}\")\n",
    "        si = count_samples(dfi)\n",
    "        si[\"replicate\"] = y\n",
    "        si[\"threshold\"] = f\"{x:.3%}\"\n",
    "        ti = si.groupby([\"community\", \"size\", \"replicate\", \"threshold\"], \n",
    "                                as_index=False).agg({\"value\": sum})\n",
    "        samples[(x,y)] = si\n",
    "        totals.append(ti)\n",
    "\n",
    "total = pd.concat(totals)"
   ]
  },
  {
   "cell_type": "code",
   "execution_count": null,
   "metadata": {
    "scrolled": false
   },
   "outputs": [],
   "source": [
    "f, axs = plt.subplots(2,1, figsize=(10,7))\n",
    "\n",
    "palette = {\"1.000%\": '#ed4517', \"0.100%\": '#ed7e17', \"0.010%\": '#1ba055', \"0.001%\": '#1ba09e'}\n",
    "\n",
    "sns.scatterplot(data=dfY, x=0, y=1, hue=\"threshold\", hue_order=hue_order, size=\"size\", sizes=(10,100),\n",
    "                     legend='brief', palette=palette, style=\"replicate\", ax=axs[0])\n",
    "axs[0].set_xlabel(f\"PC1: {pc1:.1%}\")\n",
    "axs[0].set_ylabel(f\"PC2: {pc2:.1%}\")\n",
    "\n",
    "axs[0].legend(bbox_to_anchor=(1.03, 1), loc=2)\n",
    "axs[0].set_xlim(-2.4, 3.8)\n",
    "axs[0].set_title(\"a\")\n",
    "\n",
    "sns.lineplot(data=total, x=\"size\", y=\"value\", hue=\"threshold\", ci=\"sd\", ax=axs[1],\n",
    "            palette=palette)\n",
    "\n",
    "\n",
    "axs[1].legend(bbox_to_anchor=(1.03, 1), loc=2)\n",
    "axs[1].set_xlim(2,40)\n",
    "\n",
    "axs[1].set_xlabel(\"Number of co-occurring species\")\n",
    "axs[1].set_ylabel(\"Number of samples\")\n",
    "axs[1].set_title(\"b\")\n",
    "\n",
    "plt.tight_layout()\n",
    "\n",
    "plt.savefig(\"../figures/supp_fig_2.png\", dpi=300)"
   ]
  },
  {
   "cell_type": "code",
   "execution_count": null,
   "metadata": {},
   "outputs": [],
   "source": []
  }
 ],
 "metadata": {
  "kernelspec": {
   "display_name": "Python 3",
   "language": "python",
   "name": "python3"
  },
  "language_info": {
   "codemirror_mode": {
    "name": "ipython",
    "version": 3
   },
   "file_extension": ".py",
   "mimetype": "text/x-python",
   "name": "python",
   "nbconvert_exporter": "python",
   "pygments_lexer": "ipython3",
   "version": "3.6.8"
  }
 },
 "nbformat": 4,
 "nbformat_minor": 2
}
