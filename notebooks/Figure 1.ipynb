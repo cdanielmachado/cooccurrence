{
 "cells": [
  {
   "cell_type": "code",
   "execution_count": null,
   "metadata": {
    "scrolled": true
   },
   "outputs": [],
   "source": [
    "%matplotlib inline"
   ]
  },
  {
   "cell_type": "code",
   "execution_count": null,
   "metadata": {
    "scrolled": true
   },
   "outputs": [],
   "source": [
    "import pandas as pd\n",
    "from glob import glob\n",
    "import seaborn as sns\n",
    "import matplotlib.pyplot as plt\n",
    "import numpy as np\n",
    "import matplotlib.lines as mlines\n",
    "from random import sample"
   ]
  },
  {
   "cell_type": "code",
   "execution_count": null,
   "metadata": {
    "scrolled": true
   },
   "outputs": [],
   "source": [
    "sns.set_palette('deep')"
   ]
  },
  {
   "cell_type": "markdown",
   "metadata": {},
   "source": [
    "### Load simulation results"
   ]
  },
  {
   "cell_type": "code",
   "execution_count": null,
   "metadata": {
    "scrolled": true
   },
   "outputs": [],
   "source": [
    "types = [\"random\", \"bin_rnd_01\", \"bin_rnd_001\", ]"
   ]
  },
  {
   "cell_type": "code",
   "execution_count": null,
   "metadata": {},
   "outputs": [],
   "source": [
    "dfs = []\n",
    "for commtype in types:\n",
    "    dfi = pd.concat(pd.read_csv(filename, sep='\\t', dtype={'mip': float, 'mro': float})\n",
    "                    for filename in glob(f\"../simulation/mip_mro/{commtype}/*_global.tsv\"))\n",
    "    dfi['type'] = commtype\n",
    "    dfs.append(dfi)\n",
    "df = pd.concat(dfs)\n",
    "df.reset_index(inplace=True)\n",
    "df.dropna(inplace=True)\n",
    "df[\"community size\"] = df[\"size\"]"
   ]
  },
  {
   "cell_type": "markdown",
   "metadata": {},
   "source": [
    "## Plotting"
   ]
  },
  {
   "cell_type": "code",
   "execution_count": null,
   "metadata": {},
   "outputs": [],
   "source": [
    "sizes = [2,5,10,20,30,40]\n",
    "subdf = df[df[\"size\"].isin(sizes)].copy()\n",
    "subdf[\"Competition\"] = subdf[\"mro\"]\n",
    "subdf[\"Cooperation\"] = subdf[\"mip\"]"
   ]
  },
  {
   "cell_type": "code",
   "execution_count": null,
   "metadata": {
    "scrolled": false
   },
   "outputs": [],
   "source": [
    "palette = {\"random\": '#cccccc', \"bin_rnd_01\": '#ed7e17', \"bin_rnd_001\": '#1ba055'}\n",
    "g = sns.FacetGrid(subdf, col=\"community size\", hue=\"type\", height=3,\n",
    "                  hue_order=types, palette=palette, col_wrap=3, sharex=False, sharey=False)\n",
    "g.map(plt.scatter, \"Competition\", \"Cooperation\", alpha=0.5, s=25, linewidths=0.7, edgecolors='w');\n",
    "g.fig.subplots_adjust(top=0.9)\n",
    "g.set_axis_labels('', '') \n",
    "g.savefig(\"../figures/fig_1a.png\", dpi=300)"
   ]
  },
  {
   "cell_type": "code",
   "execution_count": null,
   "metadata": {},
   "outputs": [],
   "source": [
    "f, axs = plt.subplots(2,1, figsize=(4,6))\n",
    "sns.lineplot(data=df, x=\"community size\", y=\"mip\", hue=\"type\", ci=\"sd\", palette=palette, legend=False, ax=axs[0])\n",
    "sns.lineplot(data=df, x=\"community size\", y=\"mro\", hue=\"type\", ci=\"sd\", palette=palette, legend=False, ax=axs[1])\n",
    "\n",
    "axs[0].set_xlim(2,40)\n",
    "axs[0].set_ylim(0,45)\n",
    "axs[0].set_ylabel(\"Cooperation\")\n",
    "axs[0].set_yticks([0, 10, 20, 30, 40])\n",
    "\n",
    "axs[1].set_xlim(2,40)\n",
    "axs[1].set_ylabel(\"Competition\")\n",
    "axs[1].set_yticks([0.3, 0.4, 0.5, 0.6])\n",
    "plt.tight_layout()\n",
    "\n",
    "plt.savefig(\"../figures/fig_1bc.png\", dpi=300)"
   ]
  },
  {
   "cell_type": "code",
   "execution_count": null,
   "metadata": {},
   "outputs": [],
   "source": []
  }
 ],
 "metadata": {
  "kernelspec": {
   "display_name": "Python 3",
   "language": "python",
   "name": "python3"
  },
  "language_info": {
   "codemirror_mode": {
    "name": "ipython",
    "version": 3
   },
   "file_extension": ".py",
   "mimetype": "text/x-python",
   "name": "python",
   "nbconvert_exporter": "python",
   "pygments_lexer": "ipython3",
   "version": "3.6.8"
  }
 },
 "nbformat": 4,
 "nbformat_minor": 2
}
