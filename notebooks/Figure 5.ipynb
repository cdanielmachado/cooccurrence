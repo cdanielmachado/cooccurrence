{
 "cells": [
  {
   "cell_type": "code",
   "execution_count": null,
   "metadata": {},
   "outputs": [],
   "source": [
    "%matplotlib inline"
   ]
  },
  {
   "cell_type": "code",
   "execution_count": null,
   "metadata": {},
   "outputs": [],
   "source": [
    "import pandas as pd\n",
    "import matplotlib.pyplot as plt\n",
    "from glob import glob\n",
    "import numpy as np\n",
    "import seaborn as sns\n",
    "import re"
   ]
  },
  {
   "cell_type": "code",
   "execution_count": null,
   "metadata": {},
   "outputs": [],
   "source": [
    "sns.set_palette('deep')"
   ]
  },
  {
   "cell_type": "markdown",
   "metadata": {},
   "source": [
    "### Common methods"
   ]
  },
  {
   "cell_type": "code",
   "execution_count": null,
   "metadata": {},
   "outputs": [],
   "source": [
    "types = ['random', 'bq', 'rq']\n",
    "\n",
    "def load_results(pattern):\n",
    "    dfs = []\n",
    "    for comm_type in types:\n",
    "        for filename in glob(pattern.format(comm_type)):\n",
    "            dfi = pd.read_csv(filename, sep='\\t')\n",
    "            dfi['p'] = int(filename.split('.')[-3].split('_')[-1])\n",
    "            dfi['type'] = comm_type\n",
    "            dfs.append(dfi)\n",
    "    return pd.concat(dfs)"
   ]
  },
  {
   "cell_type": "code",
   "execution_count": null,
   "metadata": {},
   "outputs": [],
   "source": [
    "def sensitivity(df, kind):\n",
    "    \n",
    "    if kind == 'abiotic':\n",
    "        df[\"initial\"] = df[\"medium\"] == 'minimal'\n",
    "    \n",
    "    if kind == 'biotic':\n",
    "        expr = re.compile(\".*_\\d+_\\d+\")\n",
    "        df[\"initial\"] = df[\"community\"].apply(lambda x: expr.match(x) is None)\n",
    "        \n",
    "    df_smt_sum = df.groupby([\"type\", \"community\", \"p\", \"medium\", \"receiver\", \"donor\", \"initial\"], \n",
    "                     as_index=False).agg({\"smetana\": np.sum})\n",
    "\n",
    "    df0_smt_sum = df_smt_sum.query(\"initial == True\").copy()\n",
    "    df1_smt_sum = df_smt_sum.query(\"initial == False\").copy()\n",
    "    \n",
    "    if kind == 'abiotic':\n",
    "        df1_smt_sum[\"medium\"] = df1_smt_sum[\"medium\"].apply(lambda x: '_'.join(x.split('_')[:-1]))\n",
    "    \n",
    "    if kind == 'biotic':\n",
    "        df1_smt_sum[\"community_old\"] = df1_smt_sum[\"community\"]\n",
    "        df1_smt_sum[\"community\"] = df1_smt_sum[\"community\"].apply(lambda x: '_'.join(x.split('_')[:-1]))\n",
    "\n",
    "    dX_all = pd.merge(df0_smt_sum, df1_smt_sum, how=\"left\",\n",
    "                      on = [\"type\", \"community\", \"p\", \"medium\", \"receiver\", \"donor\"],\n",
    "                     ).fillna(0)\n",
    "    \n",
    "    dX_all[\"dX\"] = ((dX_all[\"smetana_y\"] - dX_all[\"smetana_x\"])) ** 2\n",
    "\n",
    "    dX_comm = dX_all.groupby([\"type\", \"community\", \"p\"], \n",
    "                                 as_index=False).agg({\"dX\":np.sum, \"smetana_x\": np.sum})\n",
    "        \n",
    "    dX_comm[\"sensitivity\"] = dX_comm[\"dX\"] / dX_comm[\"smetana_x\"]\n",
    "\n",
    "    return dX_comm"
   ]
  },
  {
   "cell_type": "markdown",
   "metadata": {},
   "source": [
    "## Sensitivity to abiotic perturbations"
   ]
  },
  {
   "cell_type": "code",
   "execution_count": null,
   "metadata": {},
   "outputs": [],
   "source": [
    "dfa = load_results(\"../simulation/abiotic/{}_subsample/*.tsv\")"
   ]
  },
  {
   "cell_type": "code",
   "execution_count": null,
   "metadata": {},
   "outputs": [],
   "source": [
    "dXa = sensitivity(dfa, 'abiotic')"
   ]
  },
  {
   "cell_type": "code",
   "execution_count": null,
   "metadata": {},
   "outputs": [],
   "source": [
    "plt.figure(figsize=(9,3))\n",
    "\n",
    "palette = {\"random\": '#cccccc', \"bq\": '#ed7e17', \"rq\": '#1ba055'}\n",
    "\n",
    "sns.boxplot(data=dXa, x=\"p\", y=\"sensitivity\", hue=\"type\", hue_order=types, \n",
    "            palette=palette, showfliers=False, linewidth=1)\n",
    "\n",
    "ax = sns.stripplot(data=dXa, x=\"p\", y=\"sensitivity\", hue=\"type\", hue_order=types, palette=palette, \n",
    "              dodge=True, size=3, linewidth=0.5, alpha=0.3)\n",
    "\n",
    "\n",
    "plt.xlabel('Number of perturbations')\n",
    "plt.ylabel('Sensitivity')\n",
    "plt.ylim(0, 4.0)\n",
    "plt.yticks([0,1,2,3,4])\n",
    "ax.legend(ax.get_legend_handles_labels()[0], [\"random\", \"cooperative\", \"competitive\"])\n",
    "plt.tight_layout()\n",
    "\n",
    "plt.savefig(\"../figures/fig_5a.png\", dpi=300)"
   ]
  },
  {
   "cell_type": "markdown",
   "metadata": {},
   "source": [
    "## Sensitivity to biotic perturbations"
   ]
  },
  {
   "cell_type": "code",
   "execution_count": null,
   "metadata": {},
   "outputs": [],
   "source": [
    "dfb = load_results(\"../simulation/biotic/{}_subsample/*.tsv\")"
   ]
  },
  {
   "cell_type": "code",
   "execution_count": null,
   "metadata": {},
   "outputs": [],
   "source": [
    "dXb = sensitivity(dfb, 'biotic')"
   ]
  },
  {
   "cell_type": "code",
   "execution_count": null,
   "metadata": {},
   "outputs": [],
   "source": [
    "plt.figure(figsize=(9,3))\n",
    "\n",
    "sns.boxplot(data=dXb, x=\"p\", y=\"sensitivity\", hue=\"type\", hue_order=types, palette=palette,\n",
    "            showfliers=False, linewidth=1)\n",
    "\n",
    "ax = sns.stripplot(data=dXb, x=\"p\", y=\"sensitivity\", hue=\"type\", hue_order=types, palette=palette, \n",
    "              dodge=True, size=3, linewidth=0.5, alpha=0.3)\n",
    "\n",
    "plt.xlabel('Number of perturbations')\n",
    "plt.ylabel('Sensitivity')\n",
    "plt.ylim(0, 4.0)\n",
    "plt.yticks([0,1,2,3,4])\n",
    "ax.legend(ax.get_legend_handles_labels()[0], [\"random\", \"cooperative\", \"competitive\"])\n",
    "\n",
    "plt.tight_layout()\n",
    "plt.savefig(\"../figures/fig_5b.png\", dpi=300)"
   ]
  }
 ],
 "metadata": {
  "kernelspec": {
   "display_name": "Python 3",
   "language": "python",
   "name": "python3"
  },
  "language_info": {
   "codemirror_mode": {
    "name": "ipython",
    "version": 3
   },
   "file_extension": ".py",
   "mimetype": "text/x-python",
   "name": "python",
   "nbconvert_exporter": "python",
   "pygments_lexer": "ipython3",
   "version": "3.6.8"
  }
 },
 "nbformat": 4,
 "nbformat_minor": 2
}
