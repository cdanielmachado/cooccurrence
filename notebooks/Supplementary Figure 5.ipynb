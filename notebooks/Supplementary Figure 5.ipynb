{
 "cells": [
  {
   "cell_type": "code",
   "execution_count": null,
   "metadata": {},
   "outputs": [],
   "source": [
    "%matplotlib inline"
   ]
  },
  {
   "cell_type": "code",
   "execution_count": null,
   "metadata": {},
   "outputs": [],
   "source": [
    "import pandas as pd\n",
    "from glob import glob\n",
    "import seaborn as sns\n",
    "import matplotlib.pyplot as plt\n",
    "import numpy as np"
   ]
  },
  {
   "cell_type": "code",
   "execution_count": null,
   "metadata": {},
   "outputs": [],
   "source": [
    "sns.set_palette('deep')"
   ]
  },
  {
   "cell_type": "markdown",
   "metadata": {},
   "source": [
    "## Load data"
   ]
  },
  {
   "cell_type": "code",
   "execution_count": null,
   "metadata": {},
   "outputs": [],
   "source": [
    "samples = pd.read_csv('../data/emp_150bp_filtered.tsv', sep='\\t')"
   ]
  },
  {
   "cell_type": "code",
   "execution_count": null,
   "metadata": {},
   "outputs": [],
   "source": [
    "samples[\"log_value\"] = np.log10(samples[\"value\"])"
   ]
  },
  {
   "cell_type": "code",
   "execution_count": null,
   "metadata": {},
   "outputs": [],
   "source": [
    "bq = pd.read_csv(\"../communities/top/bq_50.tsv\", sep=\"\\t\", header=None)"
   ]
  },
  {
   "cell_type": "code",
   "execution_count": null,
   "metadata": {
    "scrolled": true
   },
   "outputs": [],
   "source": [
    "rq = pd.read_csv(\"../communities/top/rq_50.tsv\", sep=\"\\t\", header=None)"
   ]
  },
  {
   "cell_type": "markdown",
   "metadata": {},
   "source": [
    "## Abundance in group vs alone"
   ]
  },
  {
   "cell_type": "code",
   "execution_count": null,
   "metadata": {},
   "outputs": [],
   "source": [
    "samples_bq = samples[samples[\"org_id\"].isin(bq[1])].groupby(\n",
    "    \"sample\", as_index=False).agg({\"log_value\":np.mean, \"org_id\":len})"
   ]
  },
  {
   "cell_type": "code",
   "execution_count": null,
   "metadata": {},
   "outputs": [],
   "source": [
    "samples_rq = samples[samples[\"org_id\"].isin(rq[1])].groupby(\n",
    "    \"sample\", as_index=False).agg({\"log_value\":np.mean, \"org_id\":len})"
   ]
  },
  {
   "cell_type": "code",
   "execution_count": null,
   "metadata": {},
   "outputs": [],
   "source": [
    "mean_value = samples[\"log_value\"].mean()"
   ]
  },
  {
   "cell_type": "code",
   "execution_count": null,
   "metadata": {
    "scrolled": true
   },
   "outputs": [],
   "source": [
    "plt.figure(figsize=(6,4))\n",
    "ax = sns.lineplot(data=samples_bq, x=\"org_id\", y=\"log_value\", ci=\"sd\", color=sns.color_palette(\"deep\")[1])\n",
    "sns.lineplot(data=samples_rq, x=\"org_id\", y=\"log_value\", ci=\"sd\", ax=ax, color=sns.color_palette(\"deep\")[2])\n",
    "ax.plot([2, 50], [mean_value, mean_value], 'k--', alpha=0.3)\n",
    "ax.set_yticks([-4, -3, -2])\n",
    "ax.set_yticklabels(['0.01%', '0.1%', '1%'])\n",
    "ax.set_xlim(2,50)\n",
    "ax.set_ylim(-4,-2)\n",
    "ax.set_xlabel('Number of co-occurring species')\n",
    "ax.set_ylabel('Average species abundance')\n",
    "ax.legend([\"Cooperative\", \"Competitive\"], loc='upper left')\n",
    "plt.tight_layout()\n",
    "plt.savefig(\"../figures/supp_fig_5.png\", dpi=300)"
   ]
  },
  {
   "cell_type": "code",
   "execution_count": null,
   "metadata": {},
   "outputs": [],
   "source": []
  }
 ],
 "metadata": {
  "kernelspec": {
   "display_name": "Python 3",
   "language": "python",
   "name": "python3"
  },
  "language_info": {
   "codemirror_mode": {
    "name": "ipython",
    "version": 3
   },
   "file_extension": ".py",
   "mimetype": "text/x-python",
   "name": "python",
   "nbconvert_exporter": "python",
   "pygments_lexer": "ipython3",
   "version": "3.6.8"
  }
 },
 "nbformat": 4,
 "nbformat_minor": 2
}
