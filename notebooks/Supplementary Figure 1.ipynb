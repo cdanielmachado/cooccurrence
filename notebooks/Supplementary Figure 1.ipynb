{
 "cells": [
  {
   "cell_type": "code",
   "execution_count": null,
   "metadata": {},
   "outputs": [],
   "source": [
    "%matplotlib inline"
   ]
  },
  {
   "cell_type": "code",
   "execution_count": null,
   "metadata": {},
   "outputs": [],
   "source": [
    "import pandas as pd\n",
    "import seaborn as sns\n",
    "import matplotlib.pyplot as plt\n",
    "import os\n",
    "import numpy as np\n",
    "from scipy.stats import spearmanr, pearsonr"
   ]
  },
  {
   "cell_type": "code",
   "execution_count": null,
   "metadata": {},
   "outputs": [],
   "source": [
    "sns.set_style('white')\n",
    "sns.set_palette(sns.color_palette('deep'))"
   ]
  },
  {
   "cell_type": "markdown",
   "metadata": {},
   "source": [
    "## Load data and medatata"
   ]
  },
  {
   "cell_type": "code",
   "execution_count": null,
   "metadata": {},
   "outputs": [],
   "source": [
    "df = pd.read_csv('../data/emp_150bp_with_org_id.tsv', sep='\\t')"
   ]
  },
  {
   "cell_type": "code",
   "execution_count": null,
   "metadata": {
    "scrolled": true
   },
   "outputs": [],
   "source": [
    "metadata = pd.read_csv('../data/emp_qiime_mapping_qc_filtered.tsv', sep='\\t')\n",
    "metadata.rename(columns={'#SampleID': 'sample'}, inplace=True)"
   ]
  },
  {
   "cell_type": "markdown",
   "metadata": {},
   "source": [
    "## Data Analysis"
   ]
  },
  {
   "cell_type": "code",
   "execution_count": null,
   "metadata": {},
   "outputs": [],
   "source": [
    "df2 = df.groupby('sample', as_index=False).agg({\n",
    "    'otu': len})\n",
    "\n",
    "df3 = df.dropna().groupby('sample', as_index=False).agg({\n",
    "    'org_id': lambda x: x.nunique(),\n",
    "    'value': sum})\n",
    "\n",
    "df4 = pd.merge(df2, df3, on='sample').rename(columns={'value': 'coverage'})\n",
    "\n",
    "df4['ratio'] = df4['org_id'] / df4['otu']\n",
    "\n",
    "df4 = pd.merge(df4, metadata[['sample', 'empo_1', 'empo_2', 'empo_3']])"
   ]
  },
  {
   "cell_type": "code",
   "execution_count": null,
   "metadata": {},
   "outputs": [],
   "source": [
    "dist1 = df.groupby('sample').agg({'otu': len})\n",
    "dist2 = df.dropna().groupby('sample').agg({'org_id': len})\n",
    "dist3 = df.groupby('otu').agg({'sample':len})\n",
    "dist4 = df.groupby('org_id').agg({'sample':lambda x: len(set(x))})"
   ]
  },
  {
   "cell_type": "markdown",
   "metadata": {},
   "source": [
    "## Combined figure"
   ]
  },
  {
   "cell_type": "code",
   "execution_count": null,
   "metadata": {},
   "outputs": [],
   "source": [
    "f, axs = plt.subplots(2, 2, figsize=(10,7))\n",
    "\n",
    "ax = axs[0,0]\n",
    "np.log10(dist1['otu']).hist(bins=30, alpha=0.8, ax=ax)\n",
    "np.log10(dist2['org_id']).hist(bins=30, alpha=0.4, ax=ax)\n",
    "ax.set_xticks([1, 2, 3, 4])\n",
    "ax.set_xticklabels(['10', '100', '1000', '10000'])\n",
    "ax.set_xlabel('number of genomes vs number of 16S tags')\n",
    "ax.set_ylabel('number of samples')\n",
    "ax.set_xlim(1,4)\n",
    "ax.set_title('a', pad=10)\n",
    "\n",
    "ax = axs[0,1]\n",
    "ax2 = ax.twinx()\n",
    "np.log10(dist3['sample']).hist(bins=30, alpha=0.8, normed=True, ax=ax)\n",
    "np.log10(dist4['sample']).hist(bins=30, alpha=0.4, ax=ax2, normed=True, color=sns.color_palette()[1])\n",
    "ax.set_ylim(0, 1)\n",
    "ax2.set_ylim(0, 1)\n",
    "ax.set_xticks([0, 1, 2, 3, 4])\n",
    "ax.set_xticklabels(['1', '10','100', '1000', '10000'])\n",
    "ax.set_xlabel(\"number of samples\")\n",
    "ax.set_ylabel(\"16S tags\")\n",
    "ax2.set_ylabel(\"genomes\")\n",
    "ax.set_title('b', pad=10)\n",
    "\n",
    "ax = axs[1,0]\n",
    "ax2 = ax.twinx()\n",
    "np.log10(df['value']).hist(bins=30, alpha=0.8, normed=True, ax=ax)\n",
    "np.log10(df.dropna()['value']).hist(bins=30, alpha=0.4, normed=True, ax=ax2, color=sns.color_palette()[1])\n",
    "ax.set_xticks(range(-6, 1))\n",
    "ax.set_xticklabels(['', '0.001%', '0.01%','0.1%', '1%', '10%', ''])\n",
    "ax.set_xlabel(\"species abundance\")\n",
    "ax.set_ylabel(\"16S tags\")\n",
    "ax2.set_ylabel(\"genomes\")\n",
    "ax2.set_ylim(0,0.8)\n",
    "ax2.set_yticks([0, 0.2, 0.4, 0.6, 0.8])\n",
    "ax.set_yticks([0, 0.2, 0.4, 0.6, 0.8])\n",
    "ax.set_title('c', pad=10)\n",
    "\n",
    "ax = axs[1,1]\n",
    "sns.scatterplot(x='ratio', y='coverage',  hue='empo_2', data=df4, alpha=0.5, s=30,\n",
    "                    hue_order=['Non-saline', 'Saline', 'Plant', 'Animal'], ax=ax)\n",
    "ax.set_xlim(0,1)\n",
    "ax.set_ylim(0,1)\n",
    "ax.set_xlabel('genomes / 16S tags ratio')\n",
    "ax.set_ylabel('total abundance')\n",
    "ax.set_title('d', pad=10)\n",
    "\n",
    "plt.subplots_adjust(hspace=0.5, wspace=0.5)\n",
    "plt.savefig(\"../figures/supp_fig_1.png\", dpi=300)"
   ]
  },
  {
   "cell_type": "code",
   "execution_count": null,
   "metadata": {},
   "outputs": [],
   "source": []
  }
 ],
 "metadata": {
  "kernelspec": {
   "display_name": "Python 3",
   "language": "python",
   "name": "python3"
  },
  "language_info": {
   "codemirror_mode": {
    "name": "ipython",
    "version": 3
   },
   "file_extension": ".py",
   "mimetype": "text/x-python",
   "name": "python",
   "nbconvert_exporter": "python",
   "pygments_lexer": "ipython3",
   "version": "3.6.8"
  }
 },
 "nbformat": 4,
 "nbformat_minor": 2
}
