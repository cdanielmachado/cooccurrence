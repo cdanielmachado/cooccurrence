{
 "cells": [
  {
   "cell_type": "code",
   "execution_count": null,
   "metadata": {},
   "outputs": [],
   "source": [
    "%matplotlib inline"
   ]
  },
  {
   "cell_type": "code",
   "execution_count": null,
   "metadata": {},
   "outputs": [],
   "source": [
    "import pandas as pd\n",
    "import os\n",
    "import numpy as np\n",
    "from glob import glob\n",
    "from itolapi import Itol\n",
    "from IPython.display import Image"
   ]
  },
  {
   "cell_type": "code",
   "execution_count": null,
   "metadata": {},
   "outputs": [],
   "source": [
    "models = pd.read_csv('../data/model_list.tsv', sep='\\t', usecols=[0,4])\n",
    "models['org_id'] = models['file_path'].apply(lambda x: os.path.basename(x)[:-7])\n",
    "models[\"node\"] = models[\"assembly_accession\"].apply(lambda x: x[0:3] + x[4:-2])\n",
    "models = models[[\"org_id\", \"node\"]].copy()"
   ]
  },
  {
   "cell_type": "markdown",
   "metadata": {},
   "source": [
    "## Create binary dataset "
   ]
  },
  {
   "cell_type": "code",
   "execution_count": null,
   "metadata": {},
   "outputs": [],
   "source": [
    "parameters = [\n",
    "    \"DATASET_BINARY\\n\",\n",
    "    \"SEPARATOR COMMA\\n\",\n",
    "    \"DATASET_LABEL,bq_rq\\n\",\n",
    "    \"FIELD_SHAPES,2,2\\n\",\n",
    "    \"FIELD_LABELS,bq,rq\\n\",\n",
    "    \"FIELD_COLORS,#ed7e17,#1ba055,\\n\",\n",
    "    \"MARGIN,25\\n\",\n",
    "    \"HEIGHT_FACTOR,30\\n\",\n",
    "    \"SYMBOL_SPACING,25\\n\",\n",
    "    \"DATA\\n\"\n",
    "]"
   ]
  },
  {
   "cell_type": "code",
   "execution_count": null,
   "metadata": {},
   "outputs": [],
   "source": [
    "bq_orgs = pd.concat(pd.read_csv(filename, sep='\\t', header=None, names=['community', 'org_id'])\n",
    "                  for filename in glob('../communities/bin_rnd_01/*.tsv'))\n",
    "bq_orgs[\"size\"] = bq_orgs[\"community\"].apply(lambda x: int(x.split(\"_\")[1]))"
   ]
  },
  {
   "cell_type": "code",
   "execution_count": null,
   "metadata": {},
   "outputs": [],
   "source": [
    "rq_orgs = pd.concat(pd.read_csv(filename, sep='\\t', header=None, names=['community', 'org_id'])\n",
    "                  for filename in glob('../communities/bin_rnd_001/*.tsv'))\n",
    "rq_orgs[\"size\"] = rq_orgs[\"community\"].apply(lambda x: int(x.split(\"_\")[1]))"
   ]
  },
  {
   "cell_type": "code",
   "execution_count": null,
   "metadata": {},
   "outputs": [],
   "source": [
    "bq = bq_orgs.query(\"size >= 3\").groupby(\"org_id\", as_index=False).agg(\n",
    "    {\"community\":len}).query(\"community >= 10\")\n",
    "\n",
    "rq = rq_orgs.query(\"size >= 3\").groupby(\"org_id\", as_index=False).agg(\n",
    "    {\"community\":len}).query(\"community >= 10\")\n",
    "\n",
    "models[\"bq\"] = models[\"org_id\"].apply(lambda x: 1 if x in bq[\"org_id\"].values else -1)\n",
    "models[\"rq\"] = models[\"org_id\"].apply(lambda x: 1 if x in rq[\"org_id\"].values else -1)"
   ]
  },
  {
   "cell_type": "code",
   "execution_count": null,
   "metadata": {},
   "outputs": [],
   "source": [
    "selected = models.query(\"bq == 1 or rq == 1\")[[\"node\", \"bq\", \"rq\"]]"
   ]
  },
  {
   "cell_type": "code",
   "execution_count": null,
   "metadata": {},
   "outputs": [],
   "source": [
    "with open(\"../iTOL/bq_rq_binary.txt\", \"w\") as f:\n",
    "    f.writelines(parameters)\n",
    "    selected.to_csv(f, header=False, index=False)"
   ]
  },
  {
   "cell_type": "markdown",
   "metadata": {},
   "source": [
    "## Create interactions dataset"
   ]
  },
  {
   "cell_type": "code",
   "execution_count": null,
   "metadata": {},
   "outputs": [],
   "source": [
    "def smt2iTOL(df, color=\"#000000\"):\n",
    "\n",
    "    df = df.groupby([\"receiver\", \"donor\"], as_index=False).agg({\"smetana\": np.sum})\n",
    "\n",
    "    df = pd.merge(df, models, left_on=\"donor\", right_on=\"org_id\")\n",
    "    df = pd.merge(df, models, left_on=\"receiver\", right_on=\"org_id\")\n",
    "\n",
    "    df[\"color\"] = color\n",
    "    df[\"style\"] = 'normal'\n",
    "    df[\"label\"] = 'label'\n",
    "    return df[[\"node_x\", \"node_y\", \"smetana\", \"color\", \"style\", \"label\"]].copy()"
   ]
  },
  {
   "cell_type": "code",
   "execution_count": null,
   "metadata": {},
   "outputs": [],
   "source": [
    "smt_bq = pd.concat(pd.read_csv(x, sep='\\t') for x in glob(\"../simulation/bq_subsample/*.tsv\"))\n",
    "smt_rq = pd.concat(pd.read_csv(x, sep='\\t') for x in glob(\"../simulation/rq_subsample/*.tsv\"))"
   ]
  },
  {
   "cell_type": "code",
   "execution_count": null,
   "metadata": {},
   "outputs": [],
   "source": [
    "bq_itol = smt2iTOL(smt_bq, color='#ed7e17')\n",
    "rq_itol = smt2iTOL(smt_rq, color='#1ba055')"
   ]
  },
  {
   "cell_type": "code",
   "execution_count": null,
   "metadata": {},
   "outputs": [],
   "source": [
    "connections = pd.concat([bq_itol, rq_itol]).query(\"smetana > 1\")"
   ]
  },
  {
   "cell_type": "code",
   "execution_count": null,
   "metadata": {},
   "outputs": [],
   "source": [
    "parameters = [\n",
    "    \"DATASET_CONNECTION\\n\",\n",
    "    \"SEPARATOR COMMA\\n\",\n",
    "    \"DATASET_LABEL,interactions\\n\",\n",
    "    \"CENTER_CURVES,1\\n\",\n",
    "    \"ALIGN_TO_LABELS,1\\n\",\n",
    "    \"DRAW_ARROWS,1\\n\",\n",
    "    \"ARROW_SIZE,30\\n\",\n",
    "    \"MAXIMUM_LINE_WIDTH,10\\n\",\n",
    "    \"CURVE_ANGLE,0\\n\",\n",
    "    \"DATA\\n\"\n",
    "]"
   ]
  },
  {
   "cell_type": "code",
   "execution_count": null,
   "metadata": {},
   "outputs": [],
   "source": [
    "with open(\"../iTOL/interactions.txt\", \"w\") as f:\n",
    "    f.writelines(parameters)\n",
    "    connections.to_csv(f, index=False, header=False)"
   ]
  },
  {
   "cell_type": "markdown",
   "metadata": {},
   "source": [
    "## Phylum colors"
   ]
  },
  {
   "cell_type": "code",
   "execution_count": null,
   "metadata": {},
   "outputs": [],
   "source": [
    "phyla = pd.read_csv(\"../iTOL/phyla_emp.tsv\", sep=\"\\t\", na_values=\"not_annotated\").dropna()\n",
    "\n",
    "main_phyla = [\"Proteobacteria\", \"Firmicutes\", \"Actinobacteria\", \"Bacteroidetes\"]\n",
    "\n",
    "phyla.loc[~phyla[\"phylum\"].isin(main_phyla), \"phylum\"] = \"Other\"\n",
    "\n",
    "colors = {\n",
    "    \"Proteobacteria\": '#bc80bd', #purple\n",
    "    \"Firmicutes\": '#fc5b5b', #red\n",
    "    \"Actinobacteria\": '#80b1d3', #blue \n",
    "    \"Bacteroidetes\": '#ffed6f', #yellow \n",
    "    \"Other\": '#d9d9d9', #grey\n",
    "}\n",
    "\n",
    "phyla[\"color\"] = phyla[\"phylum\"].apply(lambda x: colors[x])\n",
    "\n",
    "parameters = [\n",
    "    \"TREE_COLORS\\n\",\n",
    "    \"SEPARATOR COMMA\\n\",\n",
    "    \"DATA\\n\"\n",
    "]\n",
    "\n",
    "\n",
    "phyla[\"type\"] = 'range'\n",
    "\n",
    "with open(\"../iTOL/phylum_labels.txt\", \"w\") as f:\n",
    "    f.writelines(parameters)\n",
    "    phyla[[\"gcf\", \"type\", \"color\", \"phylum\"]].to_csv(f, index=False, header=False)"
   ]
  },
  {
   "cell_type": "markdown",
   "metadata": {},
   "source": [
    "## Using API"
   ]
  },
  {
   "cell_type": "code",
   "execution_count": null,
   "metadata": {},
   "outputs": [],
   "source": [
    "itol_up = Itol()\n",
    "itol_up.add_file('../iTOL/emp.tree.txt')\n",
    "itol_up.add_file('../iTOL/node_labels.txt')\n",
    "itol_up.add_file('../iTOL/phylum_labels.txt')\n",
    "itol_up.add_file('../iTOL/phylum_names.txt')\n",
    "itol_up.add_file('../iTOL/bq_rq_binary.txt')\n",
    "itol_up.upload()\n",
    "print(itol_up.comm.upload_output)\n",
    "itol_ex = itol_up.get_itol_export()\n",
    "itol_ex.set_export_param_value('arc', 320)\n",
    "itol_ex.set_export_param_value('rotation', 110)\n",
    "itol_ex.set_export_param_value('ignore_branch_length', 0)\n",
    "itol_ex.set_export_param_value('inverted', 0)\n",
    "itol_ex.set_export_param_value('format', 'png')\n",
    "itol_ex.set_export_param_value('datasets_visible', \"0,1\")\n",
    "itol_ex.export('../figures/fig_4a.png')"
   ]
  },
  {
   "cell_type": "code",
   "execution_count": null,
   "metadata": {},
   "outputs": [],
   "source": [
    "itol_up = Itol()\n",
    "itol_up.add_file('../iTOL/emp.tree.txt')\n",
    "itol_up.add_file('../iTOL/node_labels.txt')\n",
    "itol_up.add_file('../iTOL/phylum_labels2.txt')\n",
    "itol_up.add_file('../iTOL/interactions.txt')\n",
    "itol_up.upload()\n",
    "print(itol_up.comm.upload_output)\n",
    "itol_ex = itol_up.get_itol_export()\n",
    "itol_ex.set_export_param_value('arc', 320)\n",
    "itol_ex.set_export_param_value('rotation', 110)\n",
    "itol_ex.set_export_param_value('ignore_branch_length', 1)\n",
    "itol_ex.set_export_param_value('inverted', 1)\n",
    "itol_ex.set_export_param_value('format', 'png')\n",
    "itol_ex.set_export_param_value('datasets_visible', \"0,1\")\n",
    "itol_ex.set_export_param_value('horizontal_scale_factor', 0.3)\n",
    "itol_ex.export('../figures/fig_4b.png')"
   ]
  },
  {
   "cell_type": "code",
   "execution_count": null,
   "metadata": {},
   "outputs": [],
   "source": []
  }
 ],
 "metadata": {
  "kernelspec": {
   "display_name": "Python 3",
   "language": "python",
   "name": "python3"
  },
  "language_info": {
   "codemirror_mode": {
    "name": "ipython",
    "version": 3
   },
   "file_extension": ".py",
   "mimetype": "text/x-python",
   "name": "python",
   "nbconvert_exporter": "python",
   "pygments_lexer": "ipython3",
   "version": "3.6.8"
  }
 },
 "nbformat": 4,
 "nbformat_minor": 2
}
