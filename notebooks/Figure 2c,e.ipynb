{
 "cells": [
  {
   "cell_type": "code",
   "execution_count": null,
   "metadata": {},
   "outputs": [],
   "source": [
    "%matplotlib inline\n",
    "%run ridges.py"
   ]
  },
  {
   "cell_type": "code",
   "execution_count": null,
   "metadata": {},
   "outputs": [],
   "source": [
    "import pandas as pd\n",
    "import seaborn as sns\n",
    "import matplotlib.pyplot as plt\n",
    "import numpy as np\n",
    "from glob import glob\n",
    "import os"
   ]
  },
  {
   "cell_type": "code",
   "execution_count": null,
   "metadata": {},
   "outputs": [],
   "source": [
    "sns.set_palette('deep')"
   ]
  },
  {
   "cell_type": "markdown",
   "metadata": {},
   "source": [
    "### Load distances"
   ]
  },
  {
   "cell_type": "code",
   "execution_count": null,
   "metadata": {},
   "outputs": [],
   "source": [
    "dist_df = pd.read_csv(\"../data/network_distances.tsv\", sep=\"\\t\", index_col=0)"
   ]
  },
  {
   "cell_type": "code",
   "execution_count": null,
   "metadata": {},
   "outputs": [],
   "source": [
    "co_dist = pd.read_csv(\"../data/cophenetic_matrix_all.tsv\", sep=\"\\t\", index_col=0)"
   ]
  },
  {
   "cell_type": "markdown",
   "metadata": {},
   "source": [
    "## load communities"
   ]
  },
  {
   "cell_type": "code",
   "execution_count": null,
   "metadata": {},
   "outputs": [],
   "source": [
    "types = [\"random\", \"bin_rnd_01\", \"bin_rnd_001\"]"
   ]
  },
  {
   "cell_type": "code",
   "execution_count": null,
   "metadata": {},
   "outputs": [],
   "source": [
    "orgs = {}\n",
    "for commtype in types:\n",
    "    orgs[commtype] = pd.concat(pd.read_csv(filename, sep='\\t', header=None,\n",
    "                                  names=[\"community\", \"organism\"])\n",
    "                               for filename in glob(f'../communities/{commtype}/*.tsv'))\n",
    "    orgs[commtype][\"type\"] = commtype"
   ]
  },
  {
   "cell_type": "code",
   "execution_count": null,
   "metadata": {},
   "outputs": [],
   "source": [
    "orgs = pd.concat(orgs.values())\n",
    "\n",
    "orgs[\"size\"] = orgs[\"community\"].apply(lambda x: int(x.split(\"_\")[1]))"
   ]
  },
  {
   "cell_type": "code",
   "execution_count": null,
   "metadata": {},
   "outputs": [],
   "source": [
    "sizes = [2,4,6,8,10,15,20,25,30,40]\n",
    "orgs = orgs[orgs[\"size\"].isin(sizes)]"
   ]
  },
  {
   "cell_type": "code",
   "execution_count": null,
   "metadata": {},
   "outputs": [],
   "source": [
    "def jacc_distance(x):\n",
    "    m = dist_df.loc[x,x].values\n",
    "    return m[np.triu_indices(len(m),1)].mean()\n",
    "\n",
    "def phylo_distance(x):\n",
    "    m = co_dist.loc[x,x].values\n",
    "    return m[np.triu_indices(len(m),1)].mean()"
   ]
  },
  {
   "cell_type": "code",
   "execution_count": null,
   "metadata": {
    "scrolled": true
   },
   "outputs": [],
   "source": [
    "%%time\n",
    "orgs[\"jacc\"] = orgs[\"organism\"]\n",
    "orgs[\"phylo\"] = orgs[\"organism\"]\n",
    "sim = orgs.groupby([\"community\", \"size\", \"type\"], as_index=False).agg({\n",
    "    'jacc': jacc_distance,\n",
    "    'phylo': phylo_distance\n",
    "})"
   ]
  },
  {
   "cell_type": "code",
   "execution_count": null,
   "metadata": {},
   "outputs": [],
   "source": [
    "ridges(sim, \"jacc\", (0.35,0.79), \"network dissimilarity\")\n",
    "plt.savefig(\"../figures/fig_2c.png\", dpi=300)"
   ]
  },
  {
   "cell_type": "code",
   "execution_count": null,
   "metadata": {},
   "outputs": [],
   "source": [
    "ridges(sim, \"phylo\", (2.3,4.3), \"phylogenetic distance\")\n",
    "plt.savefig(\"../figures/fig_2e.png\", dpi=300)"
   ]
  }
 ],
 "metadata": {
  "kernelspec": {
   "display_name": "Python 3",
   "language": "python",
   "name": "python3"
  },
  "language_info": {
   "codemirror_mode": {
    "name": "ipython",
    "version": 3
   },
   "file_extension": ".py",
   "mimetype": "text/x-python",
   "name": "python",
   "nbconvert_exporter": "python",
   "pygments_lexer": "ipython3",
   "version": "3.6.8"
  }
 },
 "nbformat": 4,
 "nbformat_minor": 2
}
