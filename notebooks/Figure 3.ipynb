{
 "cells": [
  {
   "cell_type": "code",
   "execution_count": null,
   "metadata": {
    "scrolled": true
   },
   "outputs": [],
   "source": [
    "%matplotlib inline"
   ]
  },
  {
   "cell_type": "code",
   "execution_count": null,
   "metadata": {
    "scrolled": true
   },
   "outputs": [],
   "source": [
    "import pandas as pd\n",
    "from glob import glob\n",
    "import seaborn as sns\n",
    "import matplotlib as mpl\n",
    "import matplotlib.pyplot as plt\n",
    "import numpy as np\n",
    "from matplotlib.gridspec import GridSpec"
   ]
  },
  {
   "cell_type": "code",
   "execution_count": null,
   "metadata": {
    "scrolled": true
   },
   "outputs": [],
   "source": [
    "sns.set_palette('deep')"
   ]
  },
  {
   "cell_type": "markdown",
   "metadata": {},
   "source": [
    "## Load data and metadata"
   ]
  },
  {
   "cell_type": "code",
   "execution_count": null,
   "metadata": {
    "scrolled": true
   },
   "outputs": [],
   "source": [
    "orgs01 = pd.concat(pd.read_csv(filename, sep='\\t', header=None, names=['community', 'org_id'])\n",
    "                  for filename in glob('../communities/bin_rnd_01/*.tsv'))\n",
    "orgs01[\"size\"] = orgs01[\"community\"].apply(lambda x: int(x.split(\"_\")[1]))"
   ]
  },
  {
   "cell_type": "code",
   "execution_count": null,
   "metadata": {},
   "outputs": [],
   "source": [
    "orgs001 = pd.concat(pd.read_csv(filename, sep='\\t', header=None, names=['community', 'org_id'])\n",
    "                  for filename in glob('../communities/bin_rnd_001/*.tsv'))\n",
    "orgs001[\"size\"] = orgs001[\"community\"].apply(lambda x: int(x.split(\"_\")[1]))"
   ]
  },
  {
   "cell_type": "code",
   "execution_count": null,
   "metadata": {
    "scrolled": true
   },
   "outputs": [],
   "source": [
    "samples = pd.read_csv('../data/emp_150bp_filtered.tsv', sep='\\t')\n",
    "samples['value'] = 1\n",
    "samples_wide = pd.pivot_table(samples, index='org_id', columns='sample', values='value', fill_value=0)"
   ]
  },
  {
   "cell_type": "code",
   "execution_count": null,
   "metadata": {
    "scrolled": true
   },
   "outputs": [],
   "source": [
    "metadata = pd.read_csv('../data/emp_qiime_mapping_qc_filtered.tsv', sep='\\t')\n",
    "metadata.rename(columns={'#SampleID': 'sample'}, inplace=True)"
   ]
  },
  {
   "cell_type": "markdown",
   "metadata": {},
   "source": [
    "## Merge co-ocurrence and metadata"
   ]
  },
  {
   "cell_type": "code",
   "execution_count": null,
   "metadata": {
    "scrolled": true
   },
   "outputs": [],
   "source": [
    "def merge_metadata(cooc):\n",
    "\n",
    "    cooc['value'] = 1\n",
    "    cooc_wide = pd.pivot_table(cooc, index='org_id', columns='community', values='value', fill_value=0)\n",
    "\n",
    "    common = sorted(set(samples_wide.index) & set(cooc_wide.index))\n",
    "    samples_common = samples_wide.loc[common,:]\n",
    "    cooc_common = cooc_wide.loc[common,:]\n",
    "\n",
    "    cooc_comms_wide = cooc_common.T.dot(samples_common)\n",
    "    cooc_comms_bin = cooc_comms_wide.eq(cooc_wide.sum(axis=0), axis=0).astype(int)\n",
    "    cooc_comms = cooc_comms_bin.unstack().reset_index()\n",
    "    cooc_comms = cooc_comms[cooc_comms[0] > 0]\n",
    "    cooc_comms.drop(columns=[0], inplace=True)\n",
    "    \n",
    "    col_funcs = {\n",
    "        'empo_1': lambda x: ((x == \"Host-associated\").sum(), (x == \"Free-living\").sum()),\n",
    "        'empo_3': lambda x: len(set(x)),\n",
    "        'title': lambda x: len(set(x)),\n",
    "        'sample': len\n",
    "    }\n",
    "    columns = [\"sample\", \"empo_1\", \"empo_3\", \"title\"]\n",
    "    cooc_meta = pd.merge(cooc_comms, metadata[columns], on='sample')\n",
    "    cooc_grouped = cooc_meta.groupby(\"community\", as_index=False).agg(col_funcs)\n",
    "    cooc_grouped[\"size\"] = cooc_grouped[\"community\"].apply(lambda x: int(x.split(\"_\")[1]))\n",
    "    \n",
    "    return cooc_grouped"
   ]
  },
  {
   "cell_type": "code",
   "execution_count": null,
   "metadata": {},
   "outputs": [],
   "source": [
    "%time meta01 = merge_metadata(orgs01)"
   ]
  },
  {
   "cell_type": "code",
   "execution_count": null,
   "metadata": {},
   "outputs": [],
   "source": [
    "%time meta001 = merge_metadata(orgs001)"
   ]
  },
  {
   "cell_type": "code",
   "execution_count": null,
   "metadata": {
    "scrolled": true
   },
   "outputs": [],
   "source": [
    "def func(x):\n",
    "    a, b = list(zip(*x))\n",
    "    ratio = np.log10(sum(a) / sum(b))\n",
    "    return min(max(ratio, -1), 1)\n",
    "\n",
    "empo3_01 = meta01.groupby([\"size\", \"empo_3\"], as_index=False).agg({\"community\": len, \"empo_1\": func})\n",
    "samples_01 = meta01.groupby(\"size\", as_index=False).agg({\"sample\": np.mean})\n",
    "\n",
    "empo3_001 = meta001.groupby([\"size\", \"empo_3\"], as_index=False).agg({\"community\": len, \"empo_1\": func})\n",
    "samples_001 = meta001.groupby(\"size\", as_index=False).agg({\"sample\": np.mean})\n",
    "\n",
    "empo3_01 = empo3_01.query(\"size % 2 == 0 and size <= 40\")\n",
    "empo3_001 = empo3_001.query(\"size % 2 == 0 and size <= 40\")\n",
    "\n",
    "samples_01 = samples_01.query(\" size <= 40\")\n",
    "samples_001 = samples_001.query(\" size <= 40\")"
   ]
  },
  {
   "cell_type": "code",
   "execution_count": null,
   "metadata": {
    "scrolled": false
   },
   "outputs": [],
   "source": [
    "#f, axs = plt.subplots(2,1, figsize=(10,6))#, sharex=True, sharey=True)\n",
    "\n",
    "f = plt.figure(figsize=(12,6))\n",
    "\n",
    "gs1 = GridSpec(2, 20, hspace=0.4, wspace=2.0)\n",
    "ax1 = plt.subplot(gs1[0, :-1])\n",
    "ax2 = plt.subplot(gs1[1, :-1])\n",
    "ax3 = plt.subplot(gs1[:, -1])\n",
    "axs = [ax1, ax2]\n",
    "\n",
    "sns.scatterplot(data=empo3_01, x=\"size\", y=\"empo_3\", hue=\"empo_1\", hue_norm=(-1, 0.6), size=\"community\", \n",
    "                    sizes=(20,800), palette=\"BrBG\", legend=False, ax=axs[0])\n",
    "\n",
    "sns.scatterplot(data=empo3_001, x=\"size\", y=\"empo_3\", hue=\"empo_1\", hue_norm=(-1, 0.6), size=\"community\", \n",
    "                    sizes=(20,800), palette=\"BrBG\", legend=False, ax=axs[1])\n",
    "\n",
    "\n",
    "axs[0].set_ylabel(\"\")\n",
    "axs[0].set_xlabel(\"\")\n",
    "axs[0].set_title(\"Cooperative\")\n",
    "axs[0].set_ylim(-1, 16)\n",
    "axs[0].set_xlim(1, 41.3)\n",
    "axs[0].set_yticks([0, 5, 10, 15])\n",
    "axs[0].set_ylabel('Number of habitats', fontsize=12)\n",
    "\n",
    "axs[1].set_xlabel(\"Community size\", fontsize=12)\n",
    "axs[1].set_ylabel(\"\")\n",
    "axs[1].set_title(\"Competitive\")\n",
    "axs[1].set_ylim(-1, 16)\n",
    "axs[1].set_xlim(1, 41.3)\n",
    "axs[1].set_yticks([0, 5, 10, 15])\n",
    "axs[1].set_ylabel('Number of habitats', fontsize=12)\n",
    "\n",
    "n = 100\n",
    "pal = sns.color_palette(\"BrBG_r\", n)\n",
    "ax3.imshow(np.arange(n).reshape(n, 1), cmap=mpl.colors.ListedColormap(list(pal)),\n",
    "          interpolation=\"nearest\", aspect=\"auto\")\n",
    "\n",
    "ax3.set_xticks([])\n",
    "ax3.set_yticks([])\n",
    "\n",
    "for spine in [\"top\", \"left\", \"right\", \"bottom\"]:\n",
    "    ax3.spines[spine].set_alpha(0.5)\n",
    "\n",
    "f.text(0.91, 0.85, \"Host-associated\", fontsize=12, rotation=\"vertical\")\n",
    "f.text(0.91, 0.25, \"Free-living\", fontsize=12, rotation=\"vertical\")\n",
    "\n",
    "plt.savefig(\"../figures/fig_3.png\", dpi=300)"
   ]
  }
 ],
 "metadata": {
  "kernelspec": {
   "display_name": "Python 3",
   "language": "python",
   "name": "python3"
  },
  "language_info": {
   "codemirror_mode": {
    "name": "ipython",
    "version": 3
   },
   "file_extension": ".py",
   "mimetype": "text/x-python",
   "name": "python",
   "nbconvert_exporter": "python",
   "pygments_lexer": "ipython3",
   "version": "3.6.8"
  }
 },
 "nbformat": 4,
 "nbformat_minor": 2
}
