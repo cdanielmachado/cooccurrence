{
 "cells": [
  {
   "cell_type": "code",
   "execution_count": null,
   "metadata": {},
   "outputs": [],
   "source": [
    "%matplotlib inline"
   ]
  },
  {
   "cell_type": "code",
   "execution_count": null,
   "metadata": {},
   "outputs": [],
   "source": [
    "import pandas as pd\n",
    "import numpy as np\n",
    "import seaborn as sns\n",
    "import os\n",
    "import matplotlib.pyplot as plt"
   ]
  },
  {
   "cell_type": "code",
   "execution_count": null,
   "metadata": {},
   "outputs": [],
   "source": [
    "sns.set_palette('deep')"
   ]
  },
  {
   "cell_type": "code",
   "execution_count": null,
   "metadata": {},
   "outputs": [],
   "source": [
    "meta = pd.read_csv(\"../data/elinav_patients.tsv\", sep=\"\\t\", dtype=str)\n",
    "meta[\"patient\"] = meta[\"patient\"].apply(lambda x: \"p_\" + x)"
   ]
  },
  {
   "cell_type": "markdown",
   "metadata": {},
   "source": [
    "## Load shotgun"
   ]
  },
  {
   "cell_type": "code",
   "execution_count": null,
   "metadata": {},
   "outputs": [],
   "source": [
    "dshot_wide = pd.read_excel(\"../data/Probiotics_Elinav_Shotgun.xlsx\")"
   ]
  },
  {
   "cell_type": "code",
   "execution_count": null,
   "metadata": {},
   "outputs": [],
   "source": [
    "dshot = dshot_wide.melt(id_vars='Unnamed: 0').query(\"value > 0\")\n",
    "dshot[\"strain\"] = dshot['Unnamed: 0'].apply(lambda x: x[3:])\n",
    "dshot[\"species\"] = dshot['strain'].apply(lambda x: \"_\".join(x.split(\"_\")[:2]))\n",
    "dshot[\"genus\"] = dshot['species'].apply(lambda x: x.split(\"_\")[0])\n",
    "dshot[\"patient\"] = dshot[\"variable\"].apply(lambda x: \"p_\" + x.split(\".\")[0])\n",
    "dshot[\"loc\"] = dshot[\"variable\"].apply(lambda x: \"l_\" + x.split(\".\")[2].rjust(2, '0'))\n",
    "dshot[\"value\"] = dshot[\"value\"] / 100\n",
    "dshot = dshot.query(\"genus != 'unclassified'\")\n",
    "\n",
    "del dshot[\"Unnamed: 0\"]\n",
    "del dshot[\"variable\"]\n",
    "\n",
    "dshot = dshot.groupby([\"species\", \"genus\", \"patient\", \"loc\"], as_index=False).agg({\"value\": sum})\n",
    "dshot = dshot.groupby([\"patient\", \"loc\"]).filter(lambda x: len(x) > 1)\n",
    "\n",
    "dshot = pd.merge(dshot, meta, on=\"patient\")\n",
    "dshot[\"log_value\"] = np.log10(dshot[\"value\"])\n",
    "dshot.sort_values(\"value\", ascending=False, inplace=True)"
   ]
  },
  {
   "cell_type": "markdown",
   "metadata": {},
   "source": [
    "## Map communities to models"
   ]
  },
  {
   "cell_type": "code",
   "execution_count": null,
   "metadata": {},
   "outputs": [],
   "source": [
    "models = pd.read_csv('../data/model_list.tsv', sep='\\t', usecols=[4])\n",
    "models['strain'] = models['file_path'].apply(lambda x: os.path.basename(x)[:-7])\n",
    "models[\"species\"] = models['strain'].apply(lambda x: \"_\".join(x.split(\"_\")[:2]))\n",
    "del models[\"file_path\"]"
   ]
  },
  {
   "cell_type": "code",
   "execution_count": null,
   "metadata": {},
   "outputs": [],
   "source": [
    "gut_strains = set(dshot[\"species\"])\n",
    "species = models[models[\"species\"].isin(gut_strains)].groupby(\n",
    "    \"species\", as_index=False).agg({\"strain\": lambda x: x.iloc[0]})"
   ]
  },
  {
   "cell_type": "code",
   "execution_count": null,
   "metadata": {},
   "outputs": [],
   "source": [
    "dshot = pd.merge(dshot, species, on=\"species\")"
   ]
  },
  {
   "cell_type": "code",
   "execution_count": null,
   "metadata": {},
   "outputs": [],
   "source": [
    "bq = pd.read_csv(\"../communities/top/bq_50.tsv\", sep=\"\\t\", header=None)\n",
    "bq[\"species\"] = bq[1].apply(lambda x: \"_\".join(x.split(\"_\")[:2]))\n",
    "dshot[\"bq\"] = dshot[\"species\"].isin(bq[\"species\"])"
   ]
  },
  {
   "cell_type": "code",
   "execution_count": null,
   "metadata": {},
   "outputs": [],
   "source": [
    "grouped = dshot.query(\"bq == True\").groupby([\"type\", \"loc\", \"patient\"],as_index=False).agg(\n",
    "    {\"value\": sum, \"species\": len}).groupby([\"type\", \"loc\"], as_index=False).agg(np.mean)\n",
    "\n",
    "abundance = grouped.pivot_table(index=\"loc\", columns=\"type\", values=\"value\", fill_value=0) * 100\n",
    "counts = grouped.pivot_table(index=\"loc\", columns=\"type\", values=\"species\", fill_value=0)"
   ]
  },
  {
   "cell_type": "markdown",
   "metadata": {},
   "source": [
    "## Plot"
   ]
  },
  {
   "cell_type": "code",
   "execution_count": null,
   "metadata": {},
   "outputs": [],
   "source": [
    "loc_order = list(reversed(abundance.index))\n",
    "col_order = ['Permissive', 'Resistant', 'Placebo']\n",
    "\n",
    "abundance = abundance.loc[loc_order, col_order]\n",
    "counts = counts.loc[loc_order, col_order]\n",
    "\n",
    "index=['TI', 'Ce', 'AC', 'TC', 'DC', 'SC', 'Re']\n",
    "columns = ['P', 'R', 'C']\n",
    "\n",
    "abundance.index = index\n",
    "counts.index = index\n",
    "\n",
    "abundance.columns = columns\n",
    "counts.columns = columns"
   ]
  },
  {
   "cell_type": "code",
   "execution_count": null,
   "metadata": {},
   "outputs": [],
   "source": [
    "plt.subplot(1,2,1)\n",
    "ax1 = sns.heatmap(counts, cmap=\"BuGn\", cbar_kws={\"format\": '%i        '})\n",
    "ax1.set_xlabel('# Species')\n",
    "plt.yticks(rotation=0)\n",
    "ax1.set_ylabel('LGI location')\n",
    "\n",
    "ax1.annotate(\"___________\", (0.1, 1.06), xycoords='axes fraction')\n",
    "ax1.annotate(\"*\", (0.33, 1.06), xycoords='axes fraction')\n",
    "\n",
    "plt.subplot(1,2,2)\n",
    "ax2 = sns.heatmap(abundance, cmap=\"OrRd\", vmin=0, vmax=1, cbar_kws={\"format\": '%.1f %%'})\n",
    "plt.yticks(rotation=0)\n",
    "ax2.set_xlabel('Abundance')\n",
    "\n",
    "ax2.annotate(\"___________\", (0.1, 1.06), xycoords='axes fraction')\n",
    "ax2.annotate(\"*\", (0.33, 1.06), xycoords='axes fraction')\n",
    "ax2.annotate(\"____________________\", (0.1, 1.15), xycoords='axes fraction')\n",
    "ax2.annotate(\"*\", (0.5, 1.15), xycoords='axes fraction')\n",
    "\n",
    "plt.tight_layout()\n",
    "plt.savefig(\"../figures/supp_fig_8.png\", dpi=300)"
   ]
  },
  {
   "cell_type": "code",
   "execution_count": null,
   "metadata": {},
   "outputs": [],
   "source": []
  }
 ],
 "metadata": {
  "kernelspec": {
   "display_name": "Python 3",
   "language": "python",
   "name": "python3"
  },
  "language_info": {
   "codemirror_mode": {
    "name": "ipython",
    "version": 3
   },
   "file_extension": ".py",
   "mimetype": "text/x-python",
   "name": "python",
   "nbconvert_exporter": "python",
   "pygments_lexer": "ipython3",
   "version": "3.6.8"
  }
 },
 "nbformat": 4,
 "nbformat_minor": 2
}
