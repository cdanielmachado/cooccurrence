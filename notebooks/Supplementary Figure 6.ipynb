{
 "cells": [
  {
   "cell_type": "code",
   "execution_count": null,
   "metadata": {},
   "outputs": [],
   "source": [
    "%matplotlib inline"
   ]
  },
  {
   "cell_type": "code",
   "execution_count": null,
   "metadata": {},
   "outputs": [],
   "source": [
    "import pandas as pd\n",
    "import seaborn as sns\n",
    "import matplotlib.pyplot as plt\n",
    "import numpy as np\n",
    "from random import sample\n",
    "from glob import glob\n",
    "from scipy.spatial.distance import pdist"
   ]
  },
  {
   "cell_type": "code",
   "execution_count": null,
   "metadata": {},
   "outputs": [],
   "source": [
    "sns.set_palette('deep')"
   ]
  },
  {
   "cell_type": "code",
   "execution_count": null,
   "metadata": {},
   "outputs": [],
   "source": [
    "df = pd.read_csv(\"../data/emp_150bp_filtered.tsv\", sep=\"\\t\")"
   ]
  },
  {
   "cell_type": "code",
   "execution_count": null,
   "metadata": {},
   "outputs": [],
   "source": [
    "metadata = pd.read_csv('../data/emp_qiime_mapping_qc_filtered.tsv', sep='\\t', usecols=[0,4,5,6,43,44])\n",
    "metadata.rename(columns={'#SampleID': 'sample'}, inplace=True)\n",
    "metadata[\"time\"] = pd.to_datetime(metadata[\"collection_timestamp\"])"
   ]
  },
  {
   "cell_type": "code",
   "execution_count": null,
   "metadata": {
    "scrolled": false
   },
   "outputs": [],
   "source": [
    "study = metadata.query(\"study_id == 2192\")\n",
    "\n",
    "def func(x):\n",
    "    tokens = x[\"sample\"].split('.')\n",
    "    \n",
    "    if x[\"host_species\"] == 's__Homo_sapiens':\n",
    "        x[\"host\"] = x[\"host_subject_id\"]\n",
    "        x[\"host_type\"] = \"human\"\n",
    "        x[\"loc\"] = tokens[2]\n",
    "    elif x[\"host_species\"] in {'s__Felis_catus', 's__Canis_lupus'}:\n",
    "        x[\"host_type\"] = \"pet\"\n",
    "        x[\"host\"] = x[\"host_subject_id\"]\n",
    "        x[\"loc\"] = tokens[3]\n",
    "    else:\n",
    "        x[\"host_type\"] = \"house\"\n",
    "        x[\"host\"] = tokens[1]\n",
    "        x[\"loc\"] = \"_\".join(tokens[2:-4])\n",
    "    \n",
    "    return x\n",
    "\n",
    "study = study.apply(func, axis=1)\n",
    "\n",
    "study = study.groupby([\"host\", \"loc\"], as_index=False).filter(lambda x: len(x) >= 10)"
   ]
  },
  {
   "cell_type": "code",
   "execution_count": null,
   "metadata": {},
   "outputs": [],
   "source": [
    "def func(x):\n",
    "    x[\"time\"] = (x[\"time\"] - x[\"time\"].min()).apply(lambda x: x.days)\n",
    "    return x\n",
    "\n",
    "study = study.groupby([\"host\", \"loc\"]).apply(func)"
   ]
  },
  {
   "cell_type": "code",
   "execution_count": null,
   "metadata": {},
   "outputs": [],
   "source": [
    "df2 = pd.merge(study, df.query(\"value > 1e-5\"), on=\"sample\")"
   ]
  },
  {
   "cell_type": "markdown",
   "metadata": {},
   "source": [
    "### Stability of BQ and RQ communities"
   ]
  },
  {
   "cell_type": "code",
   "execution_count": null,
   "metadata": {},
   "outputs": [],
   "source": [
    "bq = pd.read_csv(\"../communities/top/bq_50.tsv\", sep=\"\\t\", header=None)"
   ]
  },
  {
   "cell_type": "code",
   "execution_count": null,
   "metadata": {},
   "outputs": [],
   "source": [
    "rq = pd.read_csv(\"../communities/top/rq_50.tsv\", sep=\"\\t\", header=None)"
   ]
  },
  {
   "cell_type": "code",
   "execution_count": null,
   "metadata": {},
   "outputs": [],
   "source": [
    "data = []\n",
    "\n",
    "def calc_stability(x):\n",
    "    wide = x.pivot_table(index=\"org_id\", columns=\"sample\", values=\"value\", fill_value=0)\n",
    "    individual = (wide.std(axis=1) / wide.mean(axis=1)).mean()\n",
    "    group = pdist(wide, \"cosine\").mean()\n",
    "    return individual, group\n",
    "\n",
    "for (host, loc, host_type), dfk in df2.groupby([\"host\", \"loc\", \"host_type\"]):\n",
    "        \n",
    "    df_bq = dfk[dfk[\"org_id\"].isin(bq[1])]\n",
    "    individual_bq, group_bq = calc_stability(df_bq)\n",
    "\n",
    "    df_rq = dfk[dfk[\"org_id\"].isin(rq[1])]\n",
    "    individual_rq, group_rq = calc_stability(df_rq)\n",
    "\n",
    "    species = sorted(set(dfk[\"org_id\"]))\n",
    "    individual_all = []\n",
    "    group_all = []\n",
    "    for i in range(10):\n",
    "        community = sample(species, 50)\n",
    "        dfi = dfk[dfk[\"org_id\"].isin(community)]\n",
    "        individual_i, group_i = calc_stability(dfi)\n",
    "        individual_all.append(individual_i)\n",
    "        group_all.append(group_i)\n",
    "    individual = np.mean(individual_all)\n",
    "    group = np.mean(group_all)\n",
    "\n",
    "    data.append((host, loc, host_type, individual, group, individual_bq, group_bq, individual_rq, group_rq))\n",
    "        \n",
    "stability = pd.DataFrame(data, columns=[\n",
    "    \"host\", \"loc\", \"host_type\", \"individual\", \"group\", \"individual_bq\", \"group_bq\", \"individual_rq\", \"group_rq\"])"
   ]
  },
  {
   "cell_type": "code",
   "execution_count": null,
   "metadata": {},
   "outputs": [],
   "source": [
    "f, axs = plt.subplots(1,2, figsize=(8,3.5))\n",
    "\n",
    "sns.kdeplot(stability[\"individual\"], shade=True, ax=axs[0], legend=False, color='#cccccc')\n",
    "sns.kdeplot(stability[\"individual_bq\"], shade=True, ax=axs[0], legend=False, color='#ed7e17')\n",
    "sns.kdeplot(stability[\"individual_rq\"], shade=True, ax=axs[0], legend=False, color='#1ba055')\n",
    "axs[0].set_xlim(0,5)\n",
    "axs[0].set_yticks([])\n",
    "axs[0].set_xlabel(\"Coefficient of variation\")\n",
    "axs[0].set_title(\"(a)\")\n",
    "\n",
    "axs[0].legend([\"Random\", \"Cooperative\", \"Competitive\"])\n",
    "            \n",
    "sns.kdeplot(stability[\"group\"], shade=True, ax=axs[1], legend=False, color='#cccccc')\n",
    "sns.kdeplot(stability[\"group_bq\"], shade=True, ax=axs[1], legend=False, color='#ed7e17')\n",
    "sns.kdeplot(stability[\"group_rq\"], shade=True, ax=axs[1], legend=False, color='#1ba055')\n",
    "axs[1].set_xlim(0,1)\n",
    "axs[1].set_yticks([])\n",
    "axs[1].set_xlabel(\"Cosine distance\")\n",
    "axs[1].set_title(\"(b)\")\n",
    "axs[1].legend([\"Random\", \"Cooperative\", \"Competitive\"])\n",
    "\n",
    "plt.tight_layout()\n",
    "plt.savefig(\"../figures/supp_fig_6.png\", dpi=300)"
   ]
  },
  {
   "cell_type": "code",
   "execution_count": null,
   "metadata": {},
   "outputs": [],
   "source": []
  }
 ],
 "metadata": {
  "kernelspec": {
   "display_name": "Python 3",
   "language": "python",
   "name": "python3"
  },
  "language_info": {
   "codemirror_mode": {
    "name": "ipython",
    "version": 3
   },
   "file_extension": ".py",
   "mimetype": "text/x-python",
   "name": "python",
   "nbconvert_exporter": "python",
   "pygments_lexer": "ipython3",
   "version": "3.6.8"
  }
 },
 "nbformat": 4,
 "nbformat_minor": 2
}
