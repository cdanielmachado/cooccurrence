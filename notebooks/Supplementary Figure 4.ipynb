{
 "cells": [
  {
   "cell_type": "code",
   "execution_count": null,
   "metadata": {},
   "outputs": [],
   "source": [
    "%matplotlib inline"
   ]
  },
  {
   "cell_type": "code",
   "execution_count": null,
   "metadata": {},
   "outputs": [],
   "source": [
    "import pandas as pd\n",
    "from glob import glob\n",
    "import seaborn as sns\n",
    "import matplotlib.pyplot as plt\n",
    "import numpy as np\n",
    "from collections import Counter"
   ]
  },
  {
   "cell_type": "code",
   "execution_count": null,
   "metadata": {},
   "outputs": [],
   "source": [
    "sns.set_palette('deep')"
   ]
  },
  {
   "cell_type": "markdown",
   "metadata": {},
   "source": [
    "### Load simulation results"
   ]
  },
  {
   "cell_type": "code",
   "execution_count": null,
   "metadata": {},
   "outputs": [],
   "source": [
    "types = [\"bin_rnd_01\", \"bin_rnd_001\", \"random\"]"
   ]
  },
  {
   "cell_type": "code",
   "execution_count": null,
   "metadata": {},
   "outputs": [],
   "source": [
    "dfs = []\n",
    "for commtype in types:\n",
    "    dfi = pd.concat(pd.read_csv(filename, sep='\\t')\n",
    "                    for filename in glob(f\"../simulation/{commtype}/*_debug.tsv\"))\n",
    "    dfi['type'] = commtype\n",
    "    dfs.append(dfi)\n",
    "df = pd.concat(dfs)\n",
    "df.reset_index(inplace=True)\n",
    "df.dropna(inplace=True)"
   ]
  },
  {
   "cell_type": "code",
   "execution_count": null,
   "metadata": {},
   "outputs": [],
   "source": [
    "df[\"size\"] = df[\"community\"].apply(lambda x: int(x.split(\"_\")[1]))\n",
    "df[\"data\"] = df[\"data\"].apply(lambda x: set(x.split(\",\")))"
   ]
  },
  {
   "cell_type": "markdown",
   "metadata": {},
   "source": [
    "## load classifier"
   ]
  },
  {
   "cell_type": "code",
   "execution_count": null,
   "metadata": {},
   "outputs": [],
   "source": [
    "classes = pd.read_csv(\"../data/bigg_classes.tsv\", sep=\"\\t\")\n",
    "nan = classes[\"sub_class\"].isnull()\n",
    "classes.loc[nan, \"sub_class\"] = classes.loc[nan, \"class\"]\n",
    "classes_dict = dict(classes[[\"bigg\", \"sub_class\"]].values)"
   ]
  },
  {
   "cell_type": "code",
   "execution_count": null,
   "metadata": {},
   "outputs": [],
   "source": [
    "most_common = [\n",
    "    'Amino acids, peptides, and analogues',\n",
    "    'Carbohydrates and carbohydrate conjugates',\n",
    "    'Pyrimidines and pyrimidine derivatives',\n",
    "    'Benzoic acids and derivatives', \n",
    "    'Other non-metal oxides',\n",
    "    'Monosaccharides',\n",
    "    'Sugar acids and derivatives',\n",
    "    'Purine nucleosides',\n",
    "    'Tricarboxylic acids and derivatives',\n",
    "    'Homogeneous other non-metal compounds'\n",
    "]\n",
    "\n",
    "most_common = [\n",
    "    'Amino acids, peptides, and analogues',\n",
    "    'Carbohydrates and carbohydrate conjugates',\n",
    "    'Pyrimidines and pyrimidine derivatives',\n",
    "    'Benzoic acids and derivatives',\n",
    "    'Homogeneous other non-metal compounds', \n",
    "    'Other non-metal oxides',\n",
    "    'Tricarboxylic acids and derivatives', \n",
    "    'Sugar acids and derivatives',\n",
    "    'Alcohols and polyols', \n",
    "    'Carbonyl compounds'\n",
    "]\n",
    "\n",
    "\n",
    "colors = dict(zip(most_common, sns.color_palette(\"deep\", 10)))"
   ]
  },
  {
   "cell_type": "markdown",
   "metadata": {},
   "source": [
    "### Plotting function"
   ]
  },
  {
   "cell_type": "code",
   "execution_count": null,
   "metadata": {},
   "outputs": [],
   "source": [
    "def plot_pie(values, ax=None):\n",
    "    if ax is None:\n",
    "        f, ax = plt.subplots(1,1)\n",
    "    ct1 = [classes_dict.get(y, y) for x in values for y in x]\n",
    "    ct1 = Counter(ct1)\n",
    "    ct1 = pd.DataFrame(list(ct1.items()), columns=[\"class\", \"freq\"])\n",
    "    ct1.sort_values(\"freq\", ascending=False, inplace=True)\n",
    "    ct1[\"freq\"] = ct1[\"freq\"] / ct1[\"freq\"].sum()\n",
    "    ct1.loc[ct1[\"freq\"] < 0.02, \"class\"] = ''\n",
    "    ct1[\"color\"] = ct1[\"class\"].apply(lambda x: colors.get(x, [0.8,0.8,0.8,1]))\n",
    "    missing = ct1[\"color\"] == 0\n",
    "    ax.pie(ct1[\"freq\"], labels=ct1[\"class\"], rotatelabels=False, startangle=90, labeldistance=1.15,\n",
    "           colors=ct1[\"color\"], wedgeprops=dict(width=0.6, edgecolor='w', linewidth=1));  "
   ]
  },
  {
   "cell_type": "code",
   "execution_count": null,
   "metadata": {},
   "outputs": [],
   "source": [
    "def count_classes(values, ax=None):\n",
    "    ct1 = [classes_dict.get(y, y) for x in values for y in x]\n",
    "    ct1 = Counter(ct1)\n",
    "    ct1 = pd.DataFrame(list(ct1.items()), columns=[\"class\", \"freq\"])\n",
    "    ct1.sort_values(\"freq\", ascending=False, inplace=True)\n",
    "    ct1[\"freq\"] = ct1[\"freq\"] / ct1[\"freq\"].sum()\n",
    "    return ct1"
   ]
  },
  {
   "cell_type": "markdown",
   "metadata": {},
   "source": [
    "### Compound sharing"
   ]
  },
  {
   "cell_type": "code",
   "execution_count": null,
   "metadata": {},
   "outputs": [],
   "source": [
    "df_ni = df.query(\"key1 == 'mip' and key2 == 'ni'\")[[\"community\", \"type\", \"size\", \"data\"]]\n",
    "df_i = df.query(\"key1 == 'mip' and key2 == 'i'\")[[\"community\", \"type\", \"size\", \"data\"]]\n",
    "df_mip = pd.merge(df_ni, df_i, on=[\"community\", \"size\", \"type\"])\n",
    "df_mip[\"shared\"] = df_mip[\"data_x\"] - df_mip[\"data_y\"]"
   ]
  },
  {
   "cell_type": "markdown",
   "metadata": {},
   "source": [
    "### Compound competition"
   ]
  },
  {
   "cell_type": "code",
   "execution_count": null,
   "metadata": {},
   "outputs": [],
   "source": [
    "df_tro = df.query(\"key1 == 'mro' and key2 != 'comm'\")\n",
    "\n",
    "def func(xs):\n",
    "    ct = Counter()\n",
    "    for x in xs:\n",
    "        ct.update(x)\n",
    "    return {a for a, b in ct.items() if b > 1}\n",
    "\n",
    "df_tro = df_tro.groupby([\"community\", \"medium\", \"type\", \"size\"], as_index=False).agg({\"data\": func})"
   ]
  },
  {
   "cell_type": "markdown",
   "metadata": {},
   "source": [
    "### Plot all by class"
   ]
  },
  {
   "cell_type": "code",
   "execution_count": null,
   "metadata": {
    "scrolled": false
   },
   "outputs": [],
   "source": [
    "fig, axs = plt.subplots(2,2, figsize=(18,8))\n",
    "competed1 = df_tro.query(\"type == 'bin_rnd_01'\")[\"data\"]\n",
    "competed2 = df_tro.query(\"type == 'bin_rnd_001'\")[\"data\"]\n",
    "shared1 = df_mip.query(\"type == 'bin_rnd_01'\")[\"shared\"]\n",
    "shared2 = df_mip.query(\"type == 'bin_rnd_001'\")[\"shared\"]\n",
    "\n",
    "plot_pie(competed1, ax=axs[0,0])\n",
    "plot_pie(competed2, ax=axs[0,1])\n",
    "plot_pie(shared1, ax=axs[1,0])\n",
    "plot_pie(shared2, ax=axs[1,1])\n",
    "\n",
    "axs[0,0].set_title(\"a\", fontdict={'fontsize':16})\n",
    "axs[0,1].set_title(\"b\", fontdict={'fontsize':16})\n",
    "axs[1,0].set_title(\"c\", fontdict={'fontsize':16})\n",
    "axs[1,1].set_title(\"d\", fontdict={'fontsize':16})\n",
    "\n",
    "plt.tight_layout()\n",
    "plt.savefig(\"../figures/supp_fig_4.png\", dpi=300)"
   ]
  },
  {
   "cell_type": "code",
   "execution_count": null,
   "metadata": {},
   "outputs": [],
   "source": []
  }
 ],
 "metadata": {
  "kernelspec": {
   "display_name": "Python 3",
   "language": "python",
   "name": "python3"
  },
  "language_info": {
   "codemirror_mode": {
    "name": "ipython",
    "version": 3
   },
   "file_extension": ".py",
   "mimetype": "text/x-python",
   "name": "python",
   "nbconvert_exporter": "python",
   "pygments_lexer": "ipython3",
   "version": "3.6.8"
  }
 },
 "nbformat": 4,
 "nbformat_minor": 2
}
